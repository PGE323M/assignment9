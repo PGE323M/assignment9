{
 "cells": [
  {
   "cell_type": "markdown",
   "metadata": {},
   "source": [
    "# Assignment 9\n",
    "\n",
    "We've learned that the forward-difference approximation of first derivatives has an error $\\mathcal{O}(\\vert\\Delta x\\vert)$ and the central-difference approximation of first derivatives has an error $\\mathcal{O}(\\vert\\Delta x\\vert^2)$.  \n",
    "\n",
    "We define the *convergence rate* of a numerical scheme as the slope of a line plotting the $l_2$-error vs. $\\Delta x$ (or alternatively the total number of grids/elements $N$ because $\\Delta x \\propto 1/N$).  This plot is on a log-log scale and generally looks like\n",
    "\n",
    "![image](images/convergence.png)\n",
    "\n",
    "where the $l_2$ error is defined as\n",
    "\n",
    "$$\n",
    "\\Vert u^{\\text{numerical}} - u^{\\text{exact}} \\Vert_{l_2} = \\sqrt{\\frac 1 N \\sum_{i=1}^{N} \\left(u^{\\text{numerical}}(x_i) - u^{\\text{exact}}(x_i)\\right)^2}.\n",
    "$$\n",
    "\n",
    "Below is a class that has functions to compute both forward and central-difference approximations to a given function over a given range ($x_{\\text{min}}, x_{\\text{max}}$) and $N$.  Use this class to complete the functions `compute_forward_difference_convergence_rate()` and `compute_central_difference_convergence_rate()`.  The functions should return the rate (i.e., the absolute vaule of the slope of the line described above).  It should be a positive number.  You should be able to use any function and get the same rate, but I would suggest using something simple that you can easily compute the exact derivative for, e.g. $f(x) = x^{4}$."
   ]
  },
  {
   "cell_type": "code",
   "execution_count": 1,
   "metadata": {
    "collapsed": true,
    "jupyter": {
     "outputs_hidden": true
    }
   },
   "outputs": [],
   "source": [
    "import numpy as np"
   ]
  },
  {
   "cell_type": "code",
   "execution_count": 2,
   "metadata": {
    "collapsed": true,
    "jupyter": {
     "outputs_hidden": true
    }
   },
   "outputs": [],
   "source": [
    "class FiniteDifference():\n",
    "    \n",
    "    def __init__(self, function, x_range, N):\n",
    "        '''\n",
    "            Finite difference class\n",
    "            \n",
    "            inputs:\n",
    "               function: a function with a single argument that you wish to \n",
    "                         approximate the derivative of\n",
    "               x_range:  a tuple (x_min, x_max) that defines the range of the function\n",
    "               N:        total number of points along the (x_min, x_max) interval\n",
    "        '''\n",
    "        \n",
    "        x_min, x_max = x_range\n",
    "        self.x = np.linspace(x_min, x_max, num=N)\n",
    "        self.delta_x = self.x[1] - self.x[0]\n",
    "        \n",
    "        self.y = function(self.x)\n",
    "    \n",
    "    def forward(self):\n",
    "        '''\n",
    "            Computes the forward-difference approximation to the first derivative\n",
    "        '''\n",
    "        \n",
    "        y = self.y\n",
    "        \n",
    "        return (y[1:] - y[:-1]) / self.delta_x\n",
    "    \n",
    "    def central(self):\n",
    "        '''\n",
    "            Computes the central-difference approximation to the first derivative\n",
    "        '''\n",
    "        \n",
    "        y = self.y\n",
    "        \n",
    "        return (y[2:] - y[:-2]) / self.delta_x / 2"
   ]
  },
  {
   "cell_type": "code",
   "execution_count": 3,
   "metadata": {},
   "outputs": [],
   "source": [
    "def compute_forward_difference_convergence_rate():\n",
    "    \n",
    "    #Returns the convergence rate (must be positive)\n",
    "    return"
   ]
  },
  {
   "cell_type": "code",
   "execution_count": 4,
   "metadata": {
    "collapsed": true,
    "jupyter": {
     "outputs_hidden": true
    }
   },
   "outputs": [],
   "source": [
    "def compute_central_difference_convergence_rate():\n",
    "    \n",
    "    #Returns the convergence rate (must be positive)\n",
    "    return"
   ]
  }
 ],
 "metadata": {
  "kernelspec": {
   "display_name": "Python [conda env:x86_64]",
   "language": "python",
   "name": "conda-env-x86_64-py"
  },
  "language_info": {
   "codemirror_mode": {
    "name": "ipython",
    "version": 3
   },
   "file_extension": ".py",
   "mimetype": "text/x-python",
   "name": "python",
   "nbconvert_exporter": "python",
   "pygments_lexer": "ipython3",
   "version": "3.10.14"
  }
 },
 "nbformat": 4,
 "nbformat_minor": 4
}
